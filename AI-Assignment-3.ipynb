{
  "nbformat": 4,
  "nbformat_minor": 0,
  "metadata": {
    "colab": {
      "name": "Untitled2.ipynb",
      "provenance": [],
      "authorship_tag": "ABX9TyNJ+tMsGzBcN/+lX/p/JVsZ",
      "include_colab_link": true
    },
    "kernelspec": {
      "name": "python3",
      "display_name": "Python 3"
    },
    "language_info": {
      "name": "python"
    }
  },
  "cells": [
    {
      "cell_type": "markdown",
      "metadata": {
        "id": "view-in-github",
        "colab_type": "text"
      },
      "source": [
        "<a href=\"https://colab.research.google.com/github/Ujjvalasindhu/AI/blob/main/AI-Assignment-3.ipynb\" target=\"_parent\"><img src=\"https://colab.research.google.com/assets/colab-badge.svg\" alt=\"Open In Colab\"/></a>"
      ]
    },
    {
      "cell_type": "code",
      "metadata": {
        "id": "yX5OIBH4-Exp",
        "outputId": "e7f542de-9eef-4568-b4f8-a86b7864ddb1",
        "colab": {
          "base_uri": "https://localhost:8080/"
        }
      },
      "source": [
        "import numpy as np \n",
        "from math import exp\n",
        "\n",
        "\n",
        "x = np.random.uniform(-20, 20)\n",
        "y = np.random.uniform(-20, 20)\n",
        "learning_rate = 0.153\n",
        "steps = 0\n",
        "max_steps =  1000\n",
        "pre_step_size_x = 1\n",
        "pre_step_size_y = 1\n",
        "e = 2.178\n",
        "print(f\"Initial values of\\nx = {x}\\ny = {y}\")\n",
        "\n",
        "function = lambda x, y: 3*x**2 + 5*exp(-y) + 10\n",
        "grad_x = lambda x: 6*x\n",
        "grad_y =lambda y: -5*exp(-y)\n",
        "\n",
        "while max(abs(pre_step_size_x),abs(pre_step_size_y))>0.1 and steps<max_steps:\n",
        "  previous_x = x\n",
        "  previous_y = y\n",
        "  x = x - learning_rate * grad_x(previous_x)\n",
        "  y = y - learning_rate * grad_y(previous_y) #gradient of the function\n",
        "  pre_step_size_x = abs(previous_x)\n",
        "  pre_step_size_y = abs(previous_y)\n",
        "  steps += 1\n",
        "\n",
        "print(f\"\\nThe local minimum point/ global minimum occurs at:\\nx = {round(x)}\\ny = {round(y)}\\n\")\n",
        "print(f\"\\nObjective function value = {round(function(x,y))}\")"
      ],
      "execution_count": 1,
      "outputs": [
        {
          "output_type": "stream",
          "name": "stdout",
          "text": [
            "Initial values of\n",
            "x = -8.87775586906633\n",
            "y = 19.159219074966487\n",
            "\n",
            "The local minimum point/ global minimum occurs at:\n",
            "x = 0\n",
            "y = 19\n",
            "\n",
            "\n",
            "Objective function value = 10\n"
          ]
        }
      ]
    }
  ]
}