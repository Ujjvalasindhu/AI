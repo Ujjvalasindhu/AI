{
  "nbformat": 4,
  "nbformat_minor": 0,
  "metadata": {
    "colab": {
      "name": "Untitled0.ipynb",
      "provenance": [],
      "authorship_tag": "ABX9TyOe72PNZ3V2Z6RfS8wP4qRR",
      "include_colab_link": true
    },
    "kernelspec": {
      "name": "python3",
      "display_name": "Python 3"
    },
    "language_info": {
      "name": "python"
    }
  },
  "cells": [
    {
      "cell_type": "markdown",
      "metadata": {
        "id": "view-in-github",
        "colab_type": "text"
      },
      "source": [
        "<a href=\"https://colab.research.google.com/github/Ujjvalasindhu/AI/blob/main/Linear%20Programming.ipynb\" target=\"_parent\"><img src=\"https://colab.research.google.com/assets/colab-badge.svg\" alt=\"Open In Colab\"/></a>"
      ]
    },
    {
      "cell_type": "code",
      "metadata": {
        "colab": {
          "base_uri": "https://localhost:8080/"
        },
        "id": "n87W0iXzCfd9",
        "outputId": "c87e2eb1-0228-451e-da18-e7aa064d1905"
      },
      "source": [
        "from scipy.optimize import linprog\n",
        "obj=[-50,-120]\n",
        "A_ieq=[[7000,2000],[10,30],[1,1]]\n",
        "b_ieq=[700000,1200,110]\n",
        "boundary=[(0,float('inf')),(0,float('inf'))]\n",
        "opt=linprog(c=obj,A_ub=A_ieq,b_ub=b_ieq,A_eq=None,b_eq=None,bounds=boundary,method='Simplex')\n",
        "opt.x\n",
        "print('The amount of wheat is = ',round(opt.x[0]))\n",
        "print('The amount of barely is = ',round(opt.x[1]))\n",
        "x,y=opt.x\n",
        "profit=x*50+y*120\n",
        "print('The Total Profit is = ',profit)"
      ],
      "execution_count": 1,
      "outputs": [
        {
          "output_type": "stream",
          "text": [
            "The amount of wheat is =  98\n",
            "The amount of barely is =  7\n",
            "The Total Profit is =  5778.9473684210525\n"
          ],
          "name": "stdout"
        }
      ]
    }
  ]
}